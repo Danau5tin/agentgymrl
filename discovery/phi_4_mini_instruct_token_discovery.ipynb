{
 "cells": [
  {
   "cell_type": "code",
   "execution_count": 1,
   "metadata": {},
   "outputs": [
    {
     "name": "stderr",
     "output_type": "stream",
     "text": [
      "None of PyTorch, TensorFlow >= 2.0, or Flax have been found. Models won't be available and only tokenizers, configuration and file/data utilities can be used.\n"
     ]
    }
   ],
   "source": [
    "from transformers import AutoTokenizer\n",
    "\n",
    "model_name = \"microsoft/Phi-4-mini-instruct\"\n",
    "tokenizer=AutoTokenizer.from_pretrained(model_name)"
   ]
  },
  {
   "cell_type": "code",
   "execution_count": 2,
   "metadata": {},
   "outputs": [],
   "source": [
    "calc_tools = [{\n",
    "    \"type\": \"function\", \n",
    "        \"function\": {\n",
    "        \"name\": \"calculator\",\n",
    "        \"description\": \"Performs mathematical computations with support for basic operations and nested expressions\",\n",
    "        \"parameters\": {\n",
    "            \"type\": \"object\",\n",
    "            \"properties\": {\n",
    "                \"operation\": {\n",
    "                    \"description\": \"The mathematical operation to perform\",\n",
    "                    \"type\": \"str\",\n",
    "                    \"enum\": [\"add\", \"subtract\", \"multiply\", \"divide\"]\n",
    "                },\n",
    "                \"operands\": {\n",
    "                    \"description\": \"List of operands for the calculation. Can contain numbers or nested expressions with their own 'operation' and 'operands'\",\n",
    "                    \"type\": \"list\"\n",
    "                }\n",
    "            },\n",
    "        }\n",
    "    }\n",
    "}]"
   ]
  },
  {
   "cell_type": "code",
   "execution_count": 3,
   "metadata": {},
   "outputs": [
    {
     "name": "stdout",
     "output_type": "stream",
     "text": [
      "199999\n",
      "<|system|>sys_msg<|tool|>[{\"type\": \"function\", \"function\": {\"name\": \"calculator\", \"description\": \"Performs mathematical computations with support for basic operations and nested expressions\", \"parameters\": {\"type\": \"object\", \"properties\": {\"operation\": {\"description\": \"The mathematical operation to perform\", \"type\": \"str\", \"enum\": [\"add\", \"subtract\", \"multiply\", \"divide\"]}, \"operands\": {\"description\": \"List of operands for the calculation. Can contain numbers or nested expressions with their own 'operation' and 'operands'\", \"type\": \"list\"}}}}}]<|/tool|><|end|><|endoftext|>\n"
     ]
    }
   ],
   "source": [
    "# See system message with tools\n",
    "import json\n",
    "\n",
    "messages = [\n",
    "        {'role': 'system', 'content': \"sys_msg\", 'tools': json.dumps(calc_tools)},\n",
    "]\n",
    "print(tokenizer.eos_token_id)\n",
    "new_tokens = tokenizer.apply_chat_template(messages, tools=calc_tools, tokenize=False)\n",
    "print(new_tokens)"
   ]
  },
  {
   "cell_type": "code",
   "execution_count": 10,
   "metadata": {},
   "outputs": [
    {
     "name": "stdout",
     "output_type": "stream",
     "text": [
      "User token: [200021]\n",
      "Assistant token: [200019]\n",
      "Tool token: [200025]\n",
      "Tool end token: [200026]\n",
      "EOT token: [200020]\n"
     ]
    }
   ],
   "source": [
    "user_token = tokenizer.encode(\"<|user|>\")\n",
    "assistant_token = tokenizer.encode(\"<|assistant|>\")\n",
    "tool_token = tokenizer.encode(\"<|tool_call|>\")\n",
    "tool_end_token = tokenizer.encode(\"<|/tool_call|>\")\n",
    "eot_token = tokenizer.encode(\"<|end|>\")\n",
    "\n",
    "print(f\"User token: {user_token}\")\n",
    "print(f\"Assistant token: {assistant_token}\")\n",
    "print(f\"Tool token: {tool_token}\")\n",
    "print(f\"Tool end token: {tool_end_token}\")\n",
    "print(f\"EOT token: {eot_token}\")"
   ]
  }
 ],
 "metadata": {
  "kernelspec": {
   "display_name": "base",
   "language": "python",
   "name": "python3"
  },
  "language_info": {
   "codemirror_mode": {
    "name": "ipython",
    "version": 3
   },
   "file_extension": ".py",
   "mimetype": "text/x-python",
   "name": "python",
   "nbconvert_exporter": "python",
   "pygments_lexer": "ipython3",
   "version": "3.12.2"
  }
 },
 "nbformat": 4,
 "nbformat_minor": 2
}
